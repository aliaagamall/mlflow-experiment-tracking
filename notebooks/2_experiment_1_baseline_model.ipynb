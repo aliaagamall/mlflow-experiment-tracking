{
  "cells": [
    {
      "cell_type": "markdown",
      "metadata": {
        "id": "XEbfj27Hg68w"
      },
      "source": [
        "# Reddit Sentiment Analysis - Baseline Model (Random Forest)\n",
        "\n",
        "This notebook implements a baseline Random Forest model for sentiment analysis\n",
        "on Reddit comments using Bag of Words (BoW) feature extraction.\n",
        "\n",
        "## Table of Contents\n",
        "1. Setup and Dependencies\n",
        "2. Data Loading and Preprocessing  \n",
        "3. Feature Engineering\n",
        "4. Model Training and Evaluation\n",
        "5. MLflow Experiment Tracking\n",
        "6. Results Analysis and Visualization"
      ]
    },
    {
      "cell_type": "markdown",
      "metadata": {
        "id": "qAwI094SXZPC"
      },
      "source": [
        "## 1. Setup and Dependencies"
      ]
    },
    {
      "cell_type": "code",
      "execution_count": null,
      "metadata": {
        "colab": {
          "base_uri": "https://localhost:8080/"
        },
        "collapsed": true,
        "id": "gKIRpNPyXW0W",
        "outputId": "1665606d-ca40-4f21-c638-da62a9d4c1b0"
      },
      "outputs": [],
      "source": [
        "# Install required packages\n",
        "!pip install mlflow"
      ]
    },
    {
      "cell_type": "code",
      "execution_count": 3,
      "metadata": {
        "id": "Rd-5RcFmXt_R"
      },
      "outputs": [],
      "source": [
        "import numpy as np\n",
        "import pandas as pd\n",
        "import matplotlib.pyplot as plt\n",
        "import seaborn as sns\n",
        "import re\n",
        "import nltk\n",
        "from collections import Counter\n",
        "\n",
        "# Machine Learning imports\n",
        "from sklearn.ensemble import RandomForestClassifier\n",
        "from sklearn.feature_extraction.text import CountVectorizer, TfidfVectorizer\n",
        "from sklearn.model_selection import train_test_split, cross_val_score, StratifiedKFold\n",
        "from sklearn.metrics import (accuracy_score, classification_report, confusion_matrix,\n",
        "                           precision_recall_fscore_support, roc_auc_score, f1_score)\n",
        "\n",
        "# MLflow imports\n",
        "import mlflow\n",
        "import mlflow.sklearn\n",
        "from mlflow.tracking import MlflowClient\n",
        "\n",
        "# NLP imports\n",
        "from nltk.corpus import stopwords\n",
        "from nltk.stem import WordNetLemmatizer"
      ]
    },
    {
      "cell_type": "code",
      "execution_count": 5,
      "metadata": {
        "id": "ZnkUy4ENX7My"
      },
      "outputs": [],
      "source": [
        "import warnings\n",
        "warnings.filterwarnings('ignore')"
      ]
    },
    {
      "cell_type": "code",
      "execution_count": 4,
      "metadata": {
        "id": "HbejvDvFXuhM"
      },
      "outputs": [],
      "source": [
        "# Set plotting style\n",
        "plt.style.use('default')\n",
        "sns.set_palette(\"husl\")"
      ]
    },
    {
      "cell_type": "markdown",
      "metadata": {
        "id": "dbxQ4DLQYBYA"
      },
      "source": [
        "## 2. Utility Functions for Visualization and Analysis"
      ]
    },
    {
      "cell_type": "code",
      "execution_count": 6,
      "metadata": {
        "id": "yZEGPiMaX6gZ"
      },
      "outputs": [],
      "source": [
        "def setup_mlflow_local():\n",
        "    \"\"\"Setup MLflow for local tracking.\"\"\"\n",
        "    try:\n",
        "        # Set local tracking URI\n",
        "        mlflow.set_tracking_uri(\"file:./mlruns\")\n",
        "        print(\"✓ MLflow tracking URI set to local directory: './mlruns'\")\n",
        "\n",
        "        # Test MLflow connection\n",
        "        with mlflow.start_run():\n",
        "            mlflow.log_param(\"test_param\", \"connection_test\")\n",
        "            mlflow.log_metric(\"test_metric\", 1.0)\n",
        "        print(\"✓ MLflow connection test successful\")\n",
        "\n",
        "    except Exception as e:\n",
        "        print(f\"❌ MLflow setup failed: {e}\")\n",
        "        return False\n",
        "    return True\n",
        "\n",
        "def preprocess_comment(comment):\n",
        "    \"\"\"\n",
        "    Comprehensive text preprocessing function.\n",
        "\n",
        "    Args:\n",
        "        comment (str): Raw comment text\n",
        "\n",
        "    Returns:\n",
        "        str: Preprocessed comment text\n",
        "    \"\"\"\n",
        "    if pd.isna(comment):\n",
        "        return \"\"\n",
        "\n",
        "    # Convert to lowercase\n",
        "    comment = str(comment).lower()\n",
        "\n",
        "    # Remove trailing and leading whitespaces\n",
        "    comment = comment.strip()\n",
        "\n",
        "    # Remove newline characters\n",
        "    comment = re.sub(r'\\n', ' ', comment)\n",
        "\n",
        "    # Remove non-alphanumeric characters, except important punctuation\n",
        "    comment = re.sub(r'[^A-Za-z0-9\\s!?.,]', '', comment)\n",
        "\n",
        "    # Remove stopwords but retain important ones for sentiment analysis\n",
        "    stop_words = set(stopwords.words('english')) - {'not', 'but', 'however', 'no', 'yet', 'very', 'really'}\n",
        "    comment = ' '.join([word for word in comment.split() if word not in stop_words])\n",
        "\n",
        "    # Lemmatize the words\n",
        "    lemmatizer = WordNetLemmatizer()\n",
        "    comment = ' '.join([lemmatizer.lemmatize(word) for word in comment.split()])\n",
        "\n",
        "    return comment\n",
        "\n",
        "def plot_confusion_matrix(confusion_matrix_data, class_names, title=\"Confusion Matrix\", figsize=(8, 6)):\n",
        "    \"\"\"Create an enhanced confusion matrix plot.\"\"\"\n",
        "    plt.figure(figsize=figsize)\n",
        "\n",
        "    # Create heatmap\n",
        "    sns.heatmap(confusion_matrix_data,\n",
        "                annot=True,\n",
        "                fmt='d',\n",
        "                cmap='Blues',\n",
        "                xticklabels=class_names,\n",
        "                yticklabels=class_names,\n",
        "                cbar_kws={'label': 'Count'})\n",
        "\n",
        "    plt.title(title, fontsize=14, fontweight='bold')\n",
        "    plt.xlabel('Predicted Label', fontsize=12)\n",
        "    plt.ylabel('True Label', fontsize=12)\n",
        "    plt.tight_layout()\n",
        "\n",
        "    return plt\n",
        "\n",
        "def plot_classification_metrics(classification_report_dict, title=\"Classification Metrics\", figsize=(10, 6)):\n",
        "    \"\"\"Create a bar plot for classification metrics.\"\"\"\n",
        "    # Extract metrics for each class (excluding averages)\n",
        "    classes = [key for key in classification_report_dict.keys()\n",
        "              if key not in ['accuracy', 'macro avg', 'weighted avg']]\n",
        "\n",
        "    metrics = ['precision', 'recall', 'f1-score']\n",
        "    class_labels = {'-1': 'Negative', '0': 'Neutral', '1': 'Positive'}\n",
        "\n",
        "    # Prepare data for plotting\n",
        "    data_for_plot = []\n",
        "    for class_name in classes:\n",
        "        class_label = class_labels.get(str(class_name), f'Class {class_name}')\n",
        "        for metric in metrics:\n",
        "            if metric in classification_report_dict[class_name]:\n",
        "                data_for_plot.append({\n",
        "                    'Class': class_label,\n",
        "                    'Metric': metric.title(),\n",
        "                    'Score': classification_report_dict[class_name][metric]\n",
        "                })\n",
        "\n",
        "    # Create DataFrame and plot\n",
        "    metrics_df = pd.DataFrame(data_for_plot)\n",
        "\n",
        "    plt.figure(figsize=figsize)\n",
        "    sns.barplot(data=metrics_df, x='Class', y='Score', hue='Metric')\n",
        "    plt.title(title, fontsize=14, fontweight='bold')\n",
        "    plt.xlabel('Sentiment Class', fontsize=12)\n",
        "    plt.ylabel('Score', fontsize=12)\n",
        "    plt.ylim(0, 1)\n",
        "    plt.legend(title='Metrics', bbox_to_anchor=(1.05, 1), loc='upper left')\n",
        "    plt.tight_layout()\n",
        "\n",
        "    return plt\n",
        "\n",
        "def plot_feature_importance(model, feature_names, top_n=20, figsize=(10, 8)):\n",
        "    \"\"\"Plot top N feature importances.\"\"\"\n",
        "    # Get feature importances\n",
        "    importances = model.feature_importances_\n",
        "\n",
        "    # Create DataFrame for easier handling\n",
        "    feature_importance_df = pd.DataFrame({\n",
        "        'feature': feature_names,\n",
        "        'importance': importances\n",
        "    }).sort_values('importance', ascending=False)\n",
        "\n",
        "    # Select top N features\n",
        "    top_features = feature_importance_df.head(top_n)\n",
        "\n",
        "    plt.figure(figsize=figsize)\n",
        "    sns.barplot(data=top_features, x='importance', y='feature', palette='viridis')\n",
        "    plt.title(f'Top {top_n} Most Important Features', fontsize=14, fontweight='bold')\n",
        "    plt.xlabel('Feature Importance', fontsize=12)\n",
        "    plt.ylabel('Features', fontsize=12)\n",
        "    plt.tight_layout()\n",
        "\n",
        "    return plt\n",
        "\n",
        "def evaluate_model_comprehensive(model, X_test, y_test, class_names):\n",
        "    \"\"\"Perform comprehensive model evaluation.\"\"\"\n",
        "    # Make predictions\n",
        "    y_predictions = model.predict(X_test)\n",
        "    y_prediction_probabilities = model.predict_proba(X_test)\n",
        "\n",
        "    # Basic metrics\n",
        "    accuracy = accuracy_score(y_test, y_predictions)\n",
        "    f1_macro = f1_score(y_test, y_predictions, average='macro')\n",
        "    f1_weighted = f1_score(y_test, y_predictions, average='weighted')\n",
        "\n",
        "    # Classification report\n",
        "    classification_rep = classification_report(y_test, y_predictions, output_dict=True)\n",
        "\n",
        "    # Confusion matrix\n",
        "    conf_matrix = confusion_matrix(y_test, y_predictions)\n",
        "\n",
        "    print(\"=\"*50)\n",
        "    print(\"MODEL EVALUATION RESULTS\")\n",
        "    print(\"=\"*50)\n",
        "    print(f\"Overall Accuracy: {accuracy:.4f}\")\n",
        "    print(f\"F1-Score (Macro): {f1_macro:.4f}\")\n",
        "    print(f\"F1-Score (Weighted): {f1_weighted:.4f}\")\n",
        "    print(\"\\nDetailed Classification Report:\")\n",
        "    print(classification_report(y_test, y_predictions, target_names=class_names))\n",
        "\n",
        "    return {\n",
        "        'accuracy': accuracy,\n",
        "        'f1_macro': f1_macro,\n",
        "        'f1_weighted': f1_weighted,\n",
        "        'classification_report': classification_rep,\n",
        "        'confusion_matrix': conf_matrix,\n",
        "        'predictions': y_predictions,\n",
        "        'prediction_probabilities': y_prediction_probabilities\n",
        "    }"
      ]
    },
    {
      "cell_type": "markdown",
      "metadata": {
        "id": "PCHWvW80Yr2z"
      },
      "source": [
        "## 3. Data Loading and Preprocessing"
      ]
    },
    {
      "cell_type": "code",
      "execution_count": 7,
      "metadata": {
        "colab": {
          "base_uri": "https://localhost:8080/"
        },
        "id": "om_CqHFCYmwa",
        "outputId": "31c58bd6-b13d-4718-8b46-c4c411c0a45f"
      },
      "outputs": [
        {
          "name": "stdout",
          "output_type": "stream",
          "text": [
            "\n",
            "🔄 Loading Reddit sentiment dataset...\n",
            "✓ Dataset loaded successfully!\n",
            "Dataset shape: (37249, 2)\n",
            "Columns: ['clean_comment', 'category']\n",
            "\n",
            "=== Dataset Overview ===\n",
            "                                       clean_comment  category\n",
            "0   family mormon have never tried explain them t...         1\n",
            "1  buddhism has very much lot compatible with chr...         1\n",
            "2  seriously don say thing first all they won get...        -1\n",
            "3  what you have learned yours and only yours wha...         0\n",
            "4  for your own benefit you may want read living ...         1\n",
            "\n",
            "=== Class Distribution ===\n",
            "Negative: 8277 (22.22%)\n",
            "Neutral: 13142 (35.28%)\n",
            "Positive: 15830 (42.50%)\n"
          ]
        }
      ],
      "source": [
        "# Load dataset\n",
        "print(\"\\n🔄 Loading Reddit sentiment dataset...\")\n",
        "reddit_df = pd.read_csv('https://raw.githubusercontent.com/Himanshu-1703/reddit-sentiment-analysis/refs/heads/main/data/reddit.csv')\n",
        "\n",
        "print(f\"✓ Dataset loaded successfully!\")\n",
        "print(f\"Dataset shape: {reddit_df.shape}\")\n",
        "print(f\"Columns: {list(reddit_df.columns)}\")\n",
        "\n",
        "# Initial data exploration\n",
        "print(\"\\n=== Dataset Overview ===\")\n",
        "print(reddit_df.head())\n",
        "\n",
        "print(\"\\n=== Class Distribution ===\")\n",
        "sentiment_distribution = reddit_df['category'].value_counts().sort_index()\n",
        "class_labels = {-1: 'Negative', 0: 'Neutral', 1: 'Positive'}\n",
        "\n",
        "for category, count in sentiment_distribution.items():\n",
        "    label = class_labels[category]\n",
        "    percentage = (count / len(reddit_df)) * 100\n",
        "    print(f\"{label}: {count} ({percentage:.2f}%)\")"
      ]
    },
    {
      "cell_type": "code",
      "execution_count": 8,
      "metadata": {
        "colab": {
          "base_uri": "https://localhost:8080/"
        },
        "id": "_Gq-NZmzY1lV",
        "outputId": "b92da518-b0d9-4469-c0f6-216c7efd8eba"
      },
      "outputs": [
        {
          "name": "stdout",
          "output_type": "stream",
          "text": [
            "\n",
            "🧹 Performing data cleaning...\n",
            "✓ Removed 100 rows with missing values\n",
            "✓ Removed 350 duplicate rows\n",
            "✓ Removed 6 empty comments\n",
            "✓ Final dataset size: 36793 rows\n"
          ]
        }
      ],
      "source": [
        "# Data cleaning\n",
        "print(\"\\n🧹 Performing data cleaning...\")\n",
        "initial_size = len(reddit_df)\n",
        "\n",
        "# Remove missing values\n",
        "reddit_df.dropna(inplace=True)\n",
        "print(f\"✓ Removed {initial_size - len(reddit_df)} rows with missing values\")\n",
        "\n",
        "# Remove duplicates\n",
        "duplicate_count = reddit_df.duplicated().sum()\n",
        "reddit_df.drop_duplicates(inplace=True)\n",
        "print(f\"✓ Removed {duplicate_count} duplicate rows\")\n",
        "\n",
        "# Remove empty comments\n",
        "empty_comments = reddit_df['clean_comment'].str.strip() == ''\n",
        "reddit_df = reddit_df[~empty_comments]\n",
        "print(f\"✓ Removed {empty_comments.sum()} empty comments\")\n",
        "\n",
        "print(f\"✓ Final dataset size: {len(reddit_df)} rows\")"
      ]
    },
    {
      "cell_type": "code",
      "execution_count": 9,
      "metadata": {
        "colab": {
          "base_uri": "https://localhost:8080/"
        },
        "id": "YlVezFbwY-9W",
        "outputId": "bc451680-575f-4529-e468-9874a836cdbe"
      },
      "outputs": [
        {
          "name": "stdout",
          "output_type": "stream",
          "text": [
            "\n",
            "Downloading required NLTK data...\n",
            "✓ NLTK data downloaded successfully\n"
          ]
        },
        {
          "name": "stderr",
          "output_type": "stream",
          "text": [
            "[nltk_data] Downloading package stopwords to /root/nltk_data...\n",
            "[nltk_data]   Unzipping corpora/stopwords.zip.\n",
            "[nltk_data] Downloading package wordnet to /root/nltk_data...\n"
          ]
        }
      ],
      "source": [
        "# Download required NLTK data\n",
        "print(\"\\nDownloading required NLTK data...\")\n",
        "try:\n",
        "    nltk.data.find('corpora/stopwords')\n",
        "    nltk.data.find('corpora/wordnet')\n",
        "    print(\"✓ NLTK data already available\")\n",
        "except LookupError:\n",
        "    nltk.download('stopwords')\n",
        "    nltk.download('wordnet')\n",
        "    print(\"✓ NLTK data downloaded successfully\")"
      ]
    },
    {
      "cell_type": "code",
      "execution_count": 10,
      "metadata": {
        "colab": {
          "base_uri": "https://localhost:8080/"
        },
        "id": "ngRRIGaOZEzh",
        "outputId": "edc519cb-e36f-4633-8cd8-e2e876487092"
      },
      "outputs": [
        {
          "name": "stdout",
          "output_type": "stream",
          "text": [
            "\n",
            "Applying text preprocessing...\n",
            "✓ Removed 131 comments that became empty after preprocessing\n",
            "✓ Final processed dataset size: 36662 rows\n",
            "\n",
            "=== Preprocessing Examples ===\n",
            "\n",
            "Original: the video egpa oskgog ...\n",
            "Processed: video egpa oskgog...\n",
            "Sentiment: Neutral\n",
            "\n",
            "Original: was looking for chief keef and happily see dope ...\n",
            "Processed: looking chief keef happily see dope...\n",
            "Sentiment: Positive\n",
            "\n",
            "Original: asking the restaurant for your food after paying trend now...\n",
            "Processed: asking restaurant food paying trend...\n",
            "Sentiment: Neutral\n"
          ]
        }
      ],
      "source": [
        "# Apply preprocessing\n",
        "print(\"\\nApplying text preprocessing...\")\n",
        "reddit_df['processed_comment'] = reddit_df['clean_comment'].apply(preprocess_comment)\n",
        "\n",
        "# Remove empty processed comments\n",
        "empty_processed = reddit_df['processed_comment'].str.strip() == ''\n",
        "reddit_df = reddit_df[~empty_processed]\n",
        "print(f\"✓ Removed {empty_processed.sum()} comments that became empty after preprocessing\")\n",
        "\n",
        "print(f\"✓ Final processed dataset size: {len(reddit_df)} rows\")\n",
        "\n",
        "# Display preprocessing examples\n",
        "print(\"\\n=== Preprocessing Examples ===\")\n",
        "sample_comments = reddit_df.sample(3)\n",
        "for idx, row in sample_comments.iterrows():\n",
        "    print(f\"\\nOriginal: {row['clean_comment'][:100]}...\")\n",
        "    print(f\"Processed: {row['processed_comment'][:100]}...\")\n",
        "    print(f\"Sentiment: {class_labels[row['category']]}\")"
      ]
    },
    {
      "cell_type": "markdown",
      "metadata": {
        "id": "GnA92DhpZgRG"
      },
      "source": [
        "## 4. Feature Engineering"
      ]
    },
    {
      "cell_type": "code",
      "execution_count": 11,
      "metadata": {
        "colab": {
          "base_uri": "https://localhost:8080/"
        },
        "id": "oSXT4W-YZPrC",
        "outputId": "7effee61-2274-4fab-88c0-45d88767147c"
      },
      "outputs": [
        {
          "name": "stdout",
          "output_type": "stream",
          "text": [
            "\n",
            "Creating Bag of Words features...\n",
            "✓ Feature matrix created!\n",
            "Shape: (36662, 10000)\n",
            "Number of features: 10000\n",
            "Feature matrix density: 0.0016\n"
          ]
        }
      ],
      "source": [
        "# Prepare features and target\n",
        "print(\"\\nCreating Bag of Words features...\")\n",
        "\n",
        "# Initialize vectorizer\n",
        "bow_max_features = 10000\n",
        "bow_vectorizer = CountVectorizer(\n",
        "    max_features=bow_max_features,\n",
        "    ngram_range=(1, 2),  # Include unigrams and bigrams\n",
        "    min_df=5,  # Ignore terms that appear in fewer than 5 documents\n",
        "    max_df=0.8  # Ignore terms that appear in more than 80% of documents\n",
        ")\n",
        "\n",
        "# Create feature matrix\n",
        "feature_matrix = bow_vectorizer.fit_transform(reddit_df['processed_comment'])\n",
        "feature_names = bow_vectorizer.get_feature_names_out()\n",
        "\n",
        "print(f\"✓ Feature matrix created!\")\n",
        "print(f\"Shape: {feature_matrix.shape}\")\n",
        "print(f\"Number of features: {len(feature_names)}\")\n",
        "print(f\"Feature matrix density: {feature_matrix.nnz / (feature_matrix.shape[0] * feature_matrix.shape[1]):.4f}\")"
      ]
    },
    {
      "cell_type": "code",
      "execution_count": 12,
      "metadata": {
        "colab": {
          "base_uri": "https://localhost:8080/"
        },
        "id": "f46WaZDfZwuk",
        "outputId": "e67d2cf7-46df-4251-d6a3-ba6c09205173"
      },
      "outputs": [
        {
          "name": "stdout",
          "output_type": "stream",
          "text": [
            "Target variable shape: (36662,)\n",
            "Class distribution in target:\n",
            "  Negative: 8248\n",
            "  Neutral: 12644\n",
            "  Positive: 15770\n"
          ]
        }
      ],
      "source": [
        "# Prepare target variable\n",
        "target_variable = reddit_df['category']\n",
        "class_names = ['Negative', 'Neutral', 'Positive']\n",
        "\n",
        "print(f\"Target variable shape: {target_variable.shape}\")\n",
        "print(f\"Class distribution in target:\")\n",
        "for category, count in target_variable.value_counts().sort_index().items():\n",
        "    print(f\"  {class_labels[category]}: {count}\")"
      ]
    },
    {
      "cell_type": "markdown",
      "metadata": {
        "id": "dpL8xDnvZ888"
      },
      "source": [
        "## 5. Model Training and Evaluation"
      ]
    },
    {
      "cell_type": "code",
      "execution_count": 14,
      "metadata": {
        "colab": {
          "base_uri": "https://localhost:8080/"
        },
        "id": "712hvaFuZ4XV",
        "outputId": "73bc6e49-3487-4f45-9de2-ab2c44df01c9"
      },
      "outputs": [
        {
          "name": "stdout",
          "output_type": "stream",
          "text": [
            "\n",
            "Splitting data into train and test sets...\n",
            "✓ Data split completed!\n",
            "Training set size: 29329 samples\n",
            "Test set size: 7333 samples\n"
          ]
        }
      ],
      "source": [
        "# Split the data\n",
        "print(\"\\nSplitting data into train and test sets...\")\n",
        "X_train, X_test, y_train, y_test = train_test_split(\n",
        "    feature_matrix,\n",
        "    target_variable,\n",
        "    test_size=0.2,\n",
        "    random_state=42,\n",
        "    stratify=target_variable\n",
        ")\n",
        "print(f\"✓ Data split completed!\")\n",
        "print(f\"Training set size: {X_train.shape[0]} samples\")\n",
        "print(f\"Test set size: {X_test.shape[0]} samples\")"
      ]
    },
    {
      "cell_type": "code",
      "execution_count": 15,
      "metadata": {
        "id": "YSml_ynMaDV2"
      },
      "outputs": [],
      "source": [
        "# Train baseline model\n",
        "\n",
        "# Model parameters\n",
        "rf_n_estimators = 200\n",
        "rf_max_depth = 15\n",
        "rf_random_state = 42\n",
        "\n",
        "# Initialize model\n",
        "baseline_model = RandomForestClassifier(\n",
        "    n_estimators=rf_n_estimators,\n",
        "    max_depth=rf_max_depth,\n",
        "    random_state=rf_random_state,\n",
        "    n_jobs=-1  # Use all available cores\n",
        ")"
      ]
    },
    {
      "cell_type": "code",
      "execution_count": 16,
      "metadata": {
        "colab": {
          "base_uri": "https://localhost:8080/"
        },
        "id": "SBx8-1QkaTcT",
        "outputId": "9923b4e8-ec85-41f1-eeb9-7a6069cbb56f"
      },
      "outputs": [
        {
          "name": "stdout",
          "output_type": "stream",
          "text": [
            "✓ Model training completed!\n",
            "\n",
            "📊 Evaluating model performance...\n",
            "==================================================\n",
            "MODEL EVALUATION RESULTS\n",
            "==================================================\n",
            "Overall Accuracy: 0.6458\n",
            "F1-Score (Macro): 0.4894\n",
            "F1-Score (Weighted): 0.5662\n",
            "\n",
            "Detailed Classification Report:\n",
            "              precision    recall  f1-score   support\n",
            "\n",
            "    Negative       1.00      0.01      0.01      1650\n",
            "     Neutral       0.68      0.80      0.74      2529\n",
            "    Positive       0.62      0.85      0.72      3154\n",
            "\n",
            "    accuracy                           0.65      7333\n",
            "   macro avg       0.77      0.55      0.49      7333\n",
            "weighted avg       0.73      0.65      0.57      7333\n",
            "\n"
          ]
        }
      ],
      "source": [
        "# Train model\n",
        "baseline_model.fit(X_train, y_train)\n",
        "print(f\"✓ Model training completed!\")\n",
        "\n",
        "# Evaluate model\n",
        "print(\"\\n📊 Evaluating model performance...\")\n",
        "evaluation_results = evaluate_model_comprehensive(\n",
        "    baseline_model, X_test, y_test, class_names\n",
        ")"
      ]
    },
    {
      "cell_type": "markdown",
      "metadata": {
        "id": "laWSKBgBafDZ"
      },
      "source": [
        "## 6. MLflow Experiment Tracking"
      ]
    },
    {
      "cell_type": "code",
      "execution_count": 17,
      "metadata": {
        "colab": {
          "base_uri": "https://localhost:8080/",
          "height": 1000
        },
        "id": "6kKXi-CdaZfF",
        "outputId": "1cf879e0-82fa-46cc-c001-1f0449603742"
      },
      "outputs": [
        {
          "name": "stdout",
          "output_type": "stream",
          "text": [
            "✓ MLflow tracking URI set to local directory: './mlruns'\n"
          ]
        },
        {
          "name": "stderr",
          "output_type": "stream",
          "text": [
            "2025/07/30 17:40:49 INFO mlflow.tracking.fluent: Experiment with name 'Reddit_Sentiment_Baseline' does not exist. Creating a new experiment.\n"
          ]
        },
        {
          "name": "stdout",
          "output_type": "stream",
          "text": [
            "✓ MLflow connection test successful\n",
            "✓ MLflow experiment set: Reddit_Sentiment_Baseline\n",
            "\n",
            "Logging experiment to MLflow...\n",
            "Creating and saving visualizations...\n"
          ]
        },
        {
          "data": {
            "image/png": "[encoded data removed]",
            "text/plain": [
              "<Figure size 800x600 with 2 Axes>"
            ]
          },
          "metadata": {},
          "output_type": "display_data"
        },
        {
          "data": {
            "image/png": "[encoded data removed]",
            "text/plain": [
              "<Figure size 1000x600 with 1 Axes>"
            ]
          },
          "metadata": {},
          "output_type": "display_data"
        },
        {
          "data": {
            "image/png": "[encoded data removed]",
            "text/plain": [
              "<Figure size 1200x1000 with 1 Axes>"
            ]
          },
          "metadata": {},
          "output_type": "display_data"
        },
        {
          "data": {
            "image/png": "[encoded data removed]",
            "text/plain": [
              "<Figure size 1000x600 with 1 Axes>"
            ]
          },
          "metadata": {},
          "output_type": "display_data"
        },
        {
          "name": "stderr",
          "output_type": "stream",
          "text": [
            "2025/07/30 17:40:53 WARNING mlflow.models.model: `artifact_path` is deprecated. Please use `name` instead.\n",
            "\u001b[31m2025/07/30 17:40:58 WARNING mlflow.models.model: Model logged without a signature and input example. Please set `input_example` parameter when logging the model to auto infer the model signature.\u001b[0m\n"
          ]
        },
        {
          "name": "stdout",
          "output_type": "stream",
          "text": [
            "✓ All artifacts logged to MLflow successfully!\n",
            "\n",
            "📋 MLflow Run Information:\n",
            "Run ID: d5e81300a39947fdaa833a205f4f0276\n",
            "Experiment ID: 834032177039045850\n",
            "Tracking URI: file:./mlruns\n"
          ]
        }
      ],
      "source": [
        "mlflow_setup_success = setup_mlflow_local()\n",
        "\n",
        "if mlflow_setup_success:\n",
        "    # Set experiment\n",
        "    experiment_name = \"Reddit_Sentiment_Baseline\"\n",
        "    mlflow.set_experiment(experiment_name)\n",
        "\n",
        "    print(f\"✓ MLflow experiment set: {experiment_name}\")\n",
        "\n",
        "    # Start MLflow run\n",
        "    print(\"\\nLogging experiment to MLflow...\")\n",
        "\n",
        "    with mlflow.start_run() as run:\n",
        "        # Set run metadata\n",
        "        mlflow.set_tag(\"mlflow.runName\", \"RandomForest_Baseline_Enhanced\")\n",
        "        mlflow.set_tag(\"experiment_type\", \"baseline\")\n",
        "        mlflow.set_tag(\"model_type\", \"RandomForestClassifier\")\n",
        "        mlflow.set_tag(\"feature_extraction\", \"Bag_of_Words\")\n",
        "        mlflow.set_tag(\"description\",\n",
        "                      \"Enhanced baseline RandomForest model for sentiment analysis using Bag of Words with comprehensive evaluation\")\n",
        "\n",
        "        # Log dataset information\n",
        "        mlflow.log_param(\"dataset_size\", len(reddit_df))\n",
        "        mlflow.log_param(\"train_size\", X_train.shape[0])\n",
        "        mlflow.log_param(\"test_size\", X_test.shape[0])\n",
        "\n",
        "        # Log preprocessing parameters\n",
        "        mlflow.log_param(\"preprocessing_function\", \"custom_preprocess_comment\")\n",
        "        mlflow.log_param(\"stop_words_retained\", \"not,but,however,no,yet,very,really\")\n",
        "\n",
        "        # Log vectorizer parameters\n",
        "        mlflow.log_param(\"vectorizer_type\", \"CountVectorizer\")\n",
        "        mlflow.log_param(\"vectorizer_max_features\", bow_max_features)\n",
        "        mlflow.log_param(\"vectorizer_ngram_range\", \"(1,2)\")\n",
        "        mlflow.log_param(\"vectorizer_min_df\", 5)\n",
        "        mlflow.log_param(\"vectorizer_max_df\", 0.8)\n",
        "\n",
        "        # Log model parameters\n",
        "        mlflow.log_param(\"rf_n_estimators\", rf_n_estimators)\n",
        "        mlflow.log_param(\"rf_max_depth\", rf_max_depth)\n",
        "        mlflow.log_param(\"rf_random_state\", rf_random_state)\n",
        "\n",
        "        # Log evaluation metrics\n",
        "        mlflow.log_metric(\"accuracy\", evaluation_results['accuracy'])\n",
        "        mlflow.log_metric(\"f1_score_macro\", evaluation_results['f1_macro'])\n",
        "        mlflow.log_metric(\"f1_score_weighted\", evaluation_results['f1_weighted'])\n",
        "\n",
        "        # Log per-class metrics\n",
        "        classification_rep = evaluation_results['classification_report']\n",
        "        for class_name, metrics in classification_rep.items():\n",
        "            if isinstance(metrics, dict) and class_name not in ['accuracy', 'macro avg', 'weighted avg']:\n",
        "                class_label = class_labels.get(int(class_name), f'class_{class_name}')\n",
        "                for metric_name, value in metrics.items():\n",
        "                    mlflow.log_metric(f\"{class_label}_{metric_name}\", value)\n",
        "\n",
        "        # Log macro and weighted averages\n",
        "        if 'macro avg' in classification_rep:\n",
        "            for metric_name, value in classification_rep['macro avg'].items():\n",
        "                mlflow.log_metric(f\"macro_avg_{metric_name}\", value)\n",
        "\n",
        "        if 'weighted avg' in classification_rep:\n",
        "            for metric_name, value in classification_rep['weighted avg'].items():\n",
        "                mlflow.log_metric(f\"weighted_avg_{metric_name}\", value)\n",
        "\n",
        "        # Create and save visualizations\n",
        "        print(\"Creating and saving visualizations...\")\n",
        "\n",
        "        # 1. Confusion Matrix\n",
        "        conf_matrix_plot = plot_confusion_matrix(\n",
        "            evaluation_results['confusion_matrix'],\n",
        "            class_names,\n",
        "            title=\"Random Forest Baseline - Confusion Matrix\"\n",
        "        )\n",
        "        conf_matrix_plot.savefig(\"confusion_matrix.png\", dpi=300, bbox_inches='tight')\n",
        "        mlflow.log_artifact(\"confusion_matrix.png\")\n",
        "        plt.show()\n",
        "\n",
        "        # 2. Classification Metrics\n",
        "        metrics_plot = plot_classification_metrics(\n",
        "            evaluation_results['classification_report'],\n",
        "            title=\"Random Forest Baseline - Classification Metrics\"\n",
        "        )\n",
        "        metrics_plot.savefig(\"classification_metrics.png\", dpi=300, bbox_inches='tight')\n",
        "        mlflow.log_artifact(\"classification_metrics.png\")\n",
        "        plt.show()\n",
        "\n",
        "        # 3. Feature Importance\n",
        "        importance_plot = plot_feature_importance(\n",
        "            baseline_model,\n",
        "            feature_names,\n",
        "            top_n=25,\n",
        "            figsize=(12, 10)\n",
        "        )\n",
        "        importance_plot.savefig(\"feature_importance.png\", dpi=300, bbox_inches='tight')\n",
        "        mlflow.log_artifact(\"feature_importance.png\")\n",
        "        plt.show()\n",
        "\n",
        "        # 4. Class Distribution\n",
        "        plt.figure(figsize=(10, 6))\n",
        "        class_counts = reddit_df['category'].value_counts().sort_index()\n",
        "        class_names_for_plot = [class_labels[cat] for cat in class_counts.index]\n",
        "        colors = ['red', 'gray', 'green']\n",
        "\n",
        "        bars = plt.bar(class_names_for_plot, class_counts.values, color=colors, alpha=0.7)\n",
        "        plt.title('Dataset Class Distribution', fontsize=14, fontweight='bold')\n",
        "        plt.xlabel('Sentiment Class', fontsize=12)\n",
        "        plt.ylabel('Number of Comments', fontsize=12)\n",
        "\n",
        "        # Add value labels on bars\n",
        "        for bar, count in zip(bars, class_counts.values):\n",
        "            plt.text(bar.get_x() + bar.get_width()/2., bar.get_height() + 50,\n",
        "                    f'{count}', ha='center', va='bottom', fontsize=11)\n",
        "\n",
        "        plt.tight_layout()\n",
        "        plt.savefig(\"class_distribution.png\", dpi=300, bbox_inches='tight')\n",
        "        mlflow.log_artifact(\"class_distribution.png\")\n",
        "        plt.show()\n",
        "\n",
        "        # Log the trained model\n",
        "        mlflow.sklearn.log_model(baseline_model, \"random_forest_baseline_model\")\n",
        "\n",
        "        # Save and log the processed dataset\n",
        "        reddit_df.to_csv(\"processed_reddit_dataset.csv\", index=False)\n",
        "        mlflow.log_artifact(\"processed_reddit_dataset.csv\")\n",
        "\n",
        "        # Log vectorizer\n",
        "        import joblib\n",
        "        joblib.dump(bow_vectorizer, \"bow_vectorizer.pkl\")\n",
        "        mlflow.log_artifact(\"bow_vectorizer.pkl\")\n",
        "\n",
        "        print(\"✓ All artifacts logged to MLflow successfully!\")\n",
        "\n",
        "        # Print run information\n",
        "        print(f\"\\n📋 MLflow Run Information:\")\n",
        "        print(f\"Run ID: {run.info.run_id}\")\n",
        "        print(f\"Experiment ID: {run.info.experiment_id}\")\n",
        "        print(f\"Tracking URI: {mlflow.get_tracking_uri()}\")\n",
        "\n",
        "else:\n",
        "    print(\"MLflow setup failed. Continuing without experiment tracking.\")"
      ]
    },
    {
      "cell_type": "code",
      "execution_count": 23,
      "metadata": {
        "colab": {
          "base_uri": "https://localhost:8080/"
        },
        "id": "nw4tC11seXwe",
        "outputId": "c9637ec2-b518-468a-fe55-baf94f12af78"
      },
      "outputs": [
        {
          "name": "stdout",
          "output_type": "stream",
          "text": [
            "Requirement already satisfied: pyngrok in /usr/local/lib/python3.11/dist-packages (7.2.12)\n",
            "Requirement already satisfied: PyYAML>=5.1 in /usr/local/lib/python3.11/dist-packages (from pyngrok) (6.0.2)\n"
          ]
        }
      ],
      "source": [
        "!pip install pyngrok\n"
      ]
    },
    {
      "cell_type": "code",
      "execution_count": 30,
      "metadata": {
        "id": "biB5QaZCf463"
      },
      "outputs": [],
      "source": [
        "from google.colab import userdata\n",
        "NGROK_AUTHTOKEN = userdata.get('NGROK_AUTHTOKEN')"
      ]
    },
    {
      "cell_type": "code",
      "execution_count": 27,
      "metadata": {
        "colab": {
          "base_uri": "https://localhost:8080/"
        },
        "id": "RsS5ppBAfT7B",
        "outputId": "df663bcc-dbc9-4c19-8ea9-fde867c9ff01"
      },
      "outputs": [
        {
          "name": "stdout",
          "output_type": "stream",
          "text": [
            "Authtoken saved to configuration file: /root/.config/ngrok/ngrok.yml\n"
          ]
        }
      ],
      "source": [
        "!ngrok config add-authtoken NGROK_AUTHTOKEN"
      ]
    },
    {
      "cell_type": "code",
      "execution_count": 28,
      "metadata": {
        "colab": {
          "base_uri": "https://localhost:8080/"
        },
        "id": "OsfnH0NIeeGG",
        "outputId": "214e10aa-3547-44da-804d-c538b559e82e"
      },
      "outputs": [
        {
          "name": "stdout",
          "output_type": "stream",
          "text": [
            "MLflow UI NgrokTunnel: \"https://dc3087786e4f.ngrok-free.app\" -> \"http://localhost:5000\"\n"
          ]
        }
      ],
      "source": [
        "from pyngrok import ngrok\n",
        "import mlflow\n",
        "\n",
        "mlflow_port = 5000\n",
        "\n",
        "public_url = ngrok.connect(mlflow_port)\n",
        "print(f\"MLflow UI {public_url}\")\n"
      ]
    },
    {
      "cell_type": "markdown",
      "metadata": {
        "id": "pldI9Pf6gnQj"
      },
      "source": [
        "## 7. Final Results Summary"
      ]
    },
    {
      "cell_type": "code",
      "execution_count": 31,
      "metadata": {
        "colab": {
          "base_uri": "https://localhost:8080/"
        },
        "id": "0bQwa2aqdaRK",
        "outputId": "cf448fd6-7bbf-4c1d-9f06-228308e990f1"
      },
      "outputs": [
        {
          "name": "stdout",
          "output_type": "stream",
          "text": [
            "\n",
            "Model Performance:\n",
            "  • Overall Accuracy: 0.6458\n",
            "  • F1-Score (Macro): 0.4894\n",
            "  • F1-Score (Weighted): 0.5662\n",
            "\n",
            "Per-Class Performance:\n",
            "  • Negative:\n",
            "    - Precision: 1.0000\n",
            "    - Recall: 0.0061\n",
            "    - F1-Score: 0.0120\n",
            "  • Neutral:\n",
            "    - Precision: 0.6812\n",
            "    - Recall: 0.8035\n",
            "    - F1-Score: 0.7373\n",
            "  • Positive:\n",
            "    - Precision: 0.6207\n",
            "    - Recall: 0.8542\n",
            "    - F1-Score: 0.7190\n",
            "\n",
            "Model Configuration:\n",
            "  • Algorithm: Random Forest\n",
            "  • Features: Bag of Words (max_features=10000)\n",
            "  • N-gram Range: (1, 2)\n",
            "  • Number of Trees: 200\n",
            "  • Max Depth: 15\n",
            "\n",
            "Dataset Information:\n",
            "  • Total Samples: 36662\n",
            "  • Training Samples: 29329\n",
            "  • Test Samples: 7333\n",
            "  • Feature Dimensions: 10000\n",
            "\n",
            "Saved Artifacts:\n",
            "  • Processed dataset: processed_reddit_dataset.csv\n",
            "  • Trained model: Logged to MLflow\n",
            "  • Vectorizer: bow_vectorizer.pkl\n",
            "  • Visualizations: confusion_matrix.png, classification_metrics.png, feature_importance.png\n",
            "\n",
            "Baseline model training and evaluation completed successfully!\n",
            "Check MLflow UI for detailed experiment tracking and model artifacts.\n",
            "\n",
            "Final processed dataset saved as 'reddit_processed_baseline.csv'\n"
          ]
        }
      ],
      "source": [
        "print(f\"\\nModel Performance:\")\n",
        "print(f\"  • Overall Accuracy: {evaluation_results['accuracy']:.4f}\")\n",
        "print(f\"  • F1-Score (Macro): {evaluation_results['f1_macro']:.4f}\")\n",
        "print(f\"  • F1-Score (Weighted): {evaluation_results['f1_weighted']:.4f}\")\n",
        "\n",
        "print(f\"\\nPer-Class Performance:\")\n",
        "classification_rep = evaluation_results['classification_report']\n",
        "for class_name in ['-1', '0', '1']:\n",
        "    if class_name in classification_rep:\n",
        "        class_label = class_labels[int(class_name)]\n",
        "        metrics = classification_rep[class_name]\n",
        "        print(f\"  • {class_label}:\")\n",
        "        print(f\"    - Precision: {metrics['precision']:.4f}\")\n",
        "        print(f\"    - Recall: {metrics['recall']:.4f}\")\n",
        "        print(f\"    - F1-Score: {metrics['f1-score']:.4f}\")\n",
        "\n",
        "print(f\"\\nModel Configuration:\")\n",
        "print(f\"  • Algorithm: Random Forest\")\n",
        "print(f\"  • Features: Bag of Words (max_features={bow_max_features})\")\n",
        "print(f\"  • N-gram Range: (1, 2)\")\n",
        "print(f\"  • Number of Trees: {rf_n_estimators}\")\n",
        "print(f\"  • Max Depth: {rf_max_depth}\")\n",
        "\n",
        "print(f\"\\nDataset Information:\")\n",
        "print(f\"  • Total Samples: {len(reddit_df)}\")\n",
        "print(f\"  • Training Samples: {X_train.shape[0]}\")\n",
        "print(f\"  • Test Samples: {X_test.shape[0]}\")\n",
        "print(f\"  • Feature Dimensions: {feature_matrix.shape[1]}\")\n",
        "\n",
        "print(f\"\\nSaved Artifacts:\")\n",
        "print(f\"  • Processed dataset: processed_reddit_dataset.csv\")\n",
        "print(f\"  • Trained model: Logged to MLflow\")\n",
        "print(f\"  • Vectorizer: bow_vectorizer.pkl\")\n",
        "print(f\"  • Visualizations: confusion_matrix.png, classification_metrics.png, feature_importance.png\")\n",
        "\n",
        "print(f\"\\nBaseline model training and evaluation completed successfully!\")\n",
        "print(f\"Check MLflow UI for detailed experiment tracking and model artifacts.\")\n",
        "\n",
        "# Save final processed dataset for future use\n",
        "reddit_df.to_csv('reddit_processed_baseline.csv', index=False)\n",
        "print(f\"\\nFinal processed dataset saved as 'reddit_processed_baseline.csv'\")"
      ]
    },
    {
      "cell_type": "markdown",
      "metadata": {
        "id": "37230458"
      },
      "source": [
        "## 8. Summary and Next Steps\n",
        "\n",
        "This notebook implemented a baseline sentiment analysis model using Random Forest and Bag of Words (BoW) features. While providing an initial understanding of the problem, the results highlight several areas for improvement.\n",
        "\n",
        "**Key Observations and Limitations:**\n",
        "\n",
        "1.  **Data Imbalance:** The class distribution shows a significant imbalance (Negative: 22.22%, Neutral: 35.28%, Positive: 42.50%). This imbalance can negatively impact the model's ability to correctly classify minority classes, especially the 'Negative' class.\n",
        "2.  **Feature Engineering:** Bag of Words provides a basic representation but may not capture the nuances of sentiment and context effectively.\n",
        "3.  **Model Performance:** The overall accuracy is reasonable (0.6458), but the per-class performance reveals significant issues, particularly for the 'Negative' class.\n",
        "\n",
        "**Specific Issue with Negative Class:**\n",
        "\n",
        "As observed in the evaluation results:\n",
        "*   Precision for Negative class: 1.0000\n",
        "*   Recall for Negative class: 0.0061\n",
        "*   F1-Score for Negative class: 0.0120\n",
        "\n",
        "A precision of 1.0 indicates that when the model *predicts* a comment is Negative, it is always correct. However, a recall of 0.0061 means the model only identifies a very small fraction (around 0.61%) of the *actual* Negative comments. This suggests the model is extremely conservative in predicting the Negative class and misses almost all negative instances.\n",
        "\n",
        "**Possible Causes for Poor Negative Class Recall:**\n",
        "\n",
        "*   **Data Imbalance:** The minority nature of the Negative class makes it harder for the model to learn its patterns.\n",
        "*   **Feature Representation:** BoW might not adequately capture the specific linguistic cues that indicate negative sentiment, especially subtle ones.\n",
        "*   **Model Limitations:** Random Forest with the current configuration might not be the most suitable model for this imbalanced, text-based classification task.\n",
        "\n",
        "**Next Steps:**\n",
        "\n",
        "To improve the model's performance, particularly for the Negative class, the following steps are planned:\n",
        "\n",
        "1.  **Address Data Imbalance:** Explore techniques like resampling (oversampling minority class, undersampling majority classes) or using class weights during training.\n",
        "2.  **Advanced Feature Engineering:** Experiment with more sophisticated text representations such as TF-IDF, Word Embeddings (Word2Vec, GloVe), or contextual embeddings (BERT, etc.).\n",
        "3.  **Explore Other Models:** Evaluate other classification algorithms like Support Vector Machines (SVM), Naive Bayes, or deep learning models (CNN, RNN, Transformers).\n",
        "4.  **Hyperparameter Tuning:** Optimize the hyperparameters of the chosen model using techniques like Grid Search or Randomized Search.\n",
        "5.  **Cross-validation:** Implement cross-validation for more robust model evaluation.\n",
        "\n",
        "This baseline serves as a starting point, and subsequent iterations will focus on addressing the identified limitations to build a more accurate and balanced sentiment analysis model."
      ]
    }
  ],
  "metadata": {
    "accelerator": "GPU",
    "colab": {
      "gpuType": "T4",
      "provenance": []
    },
    "kernelspec": {
      "display_name": "Python 3",
      "name": "python3"
    },
    "language_info": {
      "name": "python"
    }
  },
  "nbformat": 4,
  "nbformat_minor": 0
}
